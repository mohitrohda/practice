{
 "cells": [
  {
   "cell_type": "code",
   "execution_count": 23,
   "id": "cb29e31a",
   "metadata": {},
   "outputs": [],
   "source": [
    "import matplotlib.pyplot as plt\n",
    "import numpy as np\n",
    "import cv2\n",
    "import os\n",
    "import PIL \n",
    "import tensorflow as tf\n",
    "\n",
    "from tensorflow import keras\n",
    "from tensorflow.keras import layers\n",
    "from tensorflow.keras.models import Sequential"
   ]
  },
  {
   "cell_type": "code",
   "execution_count": 24,
   "id": "91fe111f",
   "metadata": {},
   "outputs": [],
   "source": [
    "dataset_url = \"https://storage.googleapis.com/download.tensorflow.org/example_images/flower_photos.tgz\"\n",
    "data_dir = tf.keras.utils.get_file('flower_photos', origin=dataset_url, cache_dir='.', untar=True)"
   ]
  },
  {
   "cell_type": "code",
   "execution_count": 25,
   "id": "2968ba21",
   "metadata": {},
   "outputs": [
    {
     "data": {
      "text/plain": [
       "'./datasets/flower_photos'"
      ]
     },
     "execution_count": 25,
     "metadata": {},
     "output_type": "execute_result"
    }
   ],
   "source": [
    "data_dir"
   ]
  },
  {
   "cell_type": "code",
   "execution_count": 29,
   "id": "23b17d11",
   "metadata": {},
   "outputs": [
    {
     "data": {
      "text/plain": [
       "3670"
      ]
     },
     "execution_count": 29,
     "metadata": {},
     "output_type": "execute_result"
    }
   ],
   "source": [
    "from pathlib import Path\n",
    "\n",
    "data_dir = Path('/Users/mohitrohda/skill/practice/DL/practice/13_data_augmentation/datasets/flower_photos/flower_photos')  # ✅ make sure this is correct\n",
    "jpg_files = list(data_dir.glob('*/*.jpg'))\n",
    "len(jpg_files)"
   ]
  },
  {
   "cell_type": "code",
   "execution_count": 27,
   "id": "ac87df30",
   "metadata": {},
   "outputs": [
    {
     "name": "stdout",
     "output_type": "stream",
     "text": [
      "Exists: True\n",
      "Is directory: True\n"
     ]
    }
   ],
   "source": [
    "print(\"Exists:\", data_dir.exists())\n",
    "print(\"Is directory:\", data_dir.is_dir())\n"
   ]
  },
  {
   "cell_type": "code",
   "execution_count": 30,
   "id": "36f027fd",
   "metadata": {},
   "outputs": [
    {
     "data": {
      "text/plain": [
       "[PosixPath('/Users/mohitrohda/skill/practice/DL/practice/13_data_augmentation/datasets/flower_photos/flower_photos/roses/16209331331_343c899d38.jpg'),\n",
       " PosixPath('/Users/mohitrohda/skill/practice/DL/practice/13_data_augmentation/datasets/flower_photos/flower_photos/roses/5777669976_a205f61e5b.jpg'),\n",
       " PosixPath('/Users/mohitrohda/skill/practice/DL/practice/13_data_augmentation/datasets/flower_photos/flower_photos/roses/4860145119_b1c3cbaa4e_n.jpg'),\n",
       " PosixPath('/Users/mohitrohda/skill/practice/DL/practice/13_data_augmentation/datasets/flower_photos/flower_photos/roses/15011625580_7974c44bce.jpg'),\n",
       " PosixPath('/Users/mohitrohda/skill/practice/DL/practice/13_data_augmentation/datasets/flower_photos/flower_photos/roses/17953368844_be3d18cf30_m.jpg'),\n",
       " PosixPath('/Users/mohitrohda/skill/practice/DL/practice/13_data_augmentation/datasets/flower_photos/flower_photos/roses/8983268106_dc913d17d8_m.jpg'),\n",
       " PosixPath('/Users/mohitrohda/skill/practice/DL/practice/13_data_augmentation/datasets/flower_photos/flower_photos/roses/6803363808_9f9ce98186_m.jpg'),\n",
       " PosixPath('/Users/mohitrohda/skill/practice/DL/practice/13_data_augmentation/datasets/flower_photos/flower_photos/roses/8388497874_1fe750cc95_m.jpg'),\n",
       " PosixPath('/Users/mohitrohda/skill/practice/DL/practice/13_data_augmentation/datasets/flower_photos/flower_photos/roses/14267691818_301aceda07.jpg'),\n",
       " PosixPath('/Users/mohitrohda/skill/practice/DL/practice/13_data_augmentation/datasets/flower_photos/flower_photos/roses/4558025386_2c47314528.jpg')]"
      ]
     },
     "execution_count": 30,
     "metadata": {},
     "output_type": "execute_result"
    }
   ],
   "source": [
    "jpg_files[:10]"
   ]
  },
  {
   "cell_type": "code",
   "execution_count": 31,
   "id": "5406a474",
   "metadata": {},
   "outputs": [
    {
     "data": {
      "text/plain": [
       "[PosixPath('/Users/mohitrohda/skill/practice/DL/practice/13_data_augmentation/datasets/flower_photos/flower_photos/roses/16209331331_343c899d38.jpg'),\n",
       " PosixPath('/Users/mohitrohda/skill/practice/DL/practice/13_data_augmentation/datasets/flower_photos/flower_photos/roses/5777669976_a205f61e5b.jpg'),\n",
       " PosixPath('/Users/mohitrohda/skill/practice/DL/practice/13_data_augmentation/datasets/flower_photos/flower_photos/roses/4860145119_b1c3cbaa4e_n.jpg'),\n",
       " PosixPath('/Users/mohitrohda/skill/practice/DL/practice/13_data_augmentation/datasets/flower_photos/flower_photos/roses/15011625580_7974c44bce.jpg'),\n",
       " PosixPath('/Users/mohitrohda/skill/practice/DL/practice/13_data_augmentation/datasets/flower_photos/flower_photos/roses/17953368844_be3d18cf30_m.jpg')]"
      ]
     },
     "execution_count": 31,
     "metadata": {},
     "output_type": "execute_result"
    }
   ],
   "source": [
    "roses = list(data_dir.glob('roses/*'))\n",
    "roses[:5]"
   ]
  },
  {
   "cell_type": "code",
   "execution_count": null,
   "id": "2ca35639",
   "metadata": {},
   "outputs": [],
   "source": [
    "import PIL.Image\n",
    "\n",
    "\n",
    "PIL.Image.open()"
   ]
  }
 ],
 "metadata": {
  "kernelspec": {
   "display_name": "Python 3",
   "language": "python",
   "name": "python3"
  },
  "language_info": {
   "codemirror_mode": {
    "name": "ipython",
    "version": 3
   },
   "file_extension": ".py",
   "mimetype": "text/x-python",
   "name": "python",
   "nbconvert_exporter": "python",
   "pygments_lexer": "ipython3",
   "version": "3.10.17"
  }
 },
 "nbformat": 4,
 "nbformat_minor": 5
}
